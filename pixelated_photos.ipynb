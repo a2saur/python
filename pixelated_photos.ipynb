{
  "nbformat": 4,
  "nbformat_minor": 0,
  "metadata": {
    "colab": {
      "name": "pixelated_photos.ipynb",
      "provenance": [],
      "collapsed_sections": []
    },
    "kernelspec": {
      "name": "python3",
      "display_name": "Python 3"
    }
  },
  "cells": [
    {
      "cell_type": "code",
      "metadata": {
        "id": "7c9GT-xJcr0-"
      },
      "source": [
        "from PIL import Image\n",
        "import numpy as np\n",
        "import matplotlib.pyplot as plt\n",
        "from random import randrange\n",
        "from math import *"
      ],
      "execution_count": 15,
      "outputs": []
    },
    {
      "cell_type": "code",
      "metadata": {
        "colab": {
          "base_uri": "https://localhost:8080/"
        },
        "id": "wVN2FZB1dHzn",
        "outputId": "a44415c1-026f-4e86-c2ac-284f02a3c0a7"
      },
      "source": [
        "\n",
        "def isEqual(arr1, arr2):\n",
        "    if arr1[0] == arr2[0]:\n",
        "        if arr1[1] == arr2[1]:\n",
        "            if arr1[2] == arr2[2]:\n",
        "                return True\n",
        "class Filler():\n",
        " def __init__(self, image):\n",
        "   self.image = image\n",
        " def fill_small(self, location, outlineVal=[0,0,0], colorVal=[255, 0, 0]):\n",
        "  #  plt.imshow(self.image)\n",
        "  #  plt.show()\n",
        "   grid = [(1,0), (0,-1), (0,1), (-1,0)]\n",
        "   for dL in grid:\n",
        "     currentLoc = (location[0]+dL[0], location[1]+dL[1])\n",
        "     try:\n",
        "       if self.image[currentLoc[0], currentLoc[1], 0] == 0 and self.image[currentLoc[0], currentLoc[1], 1] == 0 and self.image[currentLoc[0], currentLoc[1], 0] == 0:\n",
        "         # don't go further\n",
        "         return\n",
        "       elif isEqual(self.image[currentLoc[0], currentLoc[1]], colorVal):\n",
        "         pass\n",
        "       else:\n",
        "         # fill send this as a location\n",
        "         self.image[currentLoc[0], currentLoc[1]] = colorVal\n",
        "         self.fill_small(currentLoc, outlineVal, colorVal)\n",
        "     except IndexError:\n",
        "       pass\n",
        " def get_image(self):\n",
        "   return self.image\n",
        " def show_image(self):\n",
        "   plt.clf()\n",
        "   plt.imshow(grid)\n",
        "   plt.axis('off')\n",
        "   plt.show()\n",
        "def add_grid(image, numLines=10):\n",
        "    xStep = 25#int(image.shape[0]/numLines)\n",
        "    yStep = 25#int(image.shape[1]/numLines)\n",
        "    for x in range(0, grid.shape[0], xStep):\n",
        "        for y in range(0, grid.shape[1]):\n",
        "            image[x, y] = [0, 0, 0]\n",
        "            #print(type(image[x,y,0]))\n",
        "    for x in range(0, grid.shape[0]):\n",
        "        for y in range(0, grid.shape[1], yStep):\n",
        "            image[x, y] = [0, 0, 0]\n",
        "    return image\n",
        "\n",
        "image = Image.open(\"/content/drive/MyDrive/Art/koala.webp\")\n",
        "pixels = list(image.getdata())\n",
        "width, height = image.size\n",
        "pixels = [pixels[i * width:(i + 1) * width] for i in range(height)]\n",
        "print(\"Got image\")\n",
        "grid = np.empty([height, width, 3], dtype=np.uint8)\n",
        "for x in range(0, grid.shape[0]):\n",
        "    for y in range(0, grid.shape[1]):\n",
        "        grid[x, y, 0] = pixels[x][y][0]\n",
        "        grid[x, y, 1] = pixels[x][y][1]\n",
        "        grid[x, y, 2] = pixels[x][y][2]\n",
        "grid = add_grid(grid)\n",
        "print(\"Transferred to np array\")\n",
        "filler = Filler(grid)\n",
        "prevLocation = [0, 0]\n",
        "while True:\n",
        "    # print(prevLocation)\n",
        "    prevLocation[0] += 1\n",
        "    if prevLocation[0] >= grid.shape[0]:\n",
        "        prevLocation[1] += 1\n",
        "        prevLocation[0] = 0\n",
        "        #filler.show_image()\n",
        "    try:\n",
        "        if grid[prevLocation[0], prevLocation[1], 0] == 0:\n",
        "            pass\n",
        "        else:\n",
        "            filler.fill_small(prevLocation, colorVal=grid[prevLocation[0], prevLocation[1]])\n",
        "    except IndexError:\n",
        "        #print(grid[prevLocation[0], prevLocation[1], 0])\n",
        "        break\n",
        "print(\"Filled\")\n",
        "filler.show_image()\n"
      ],
      "execution_count": null,
      "outputs": [
        {
          "output_type": "stream",
          "text": [
            "Got image\n",
            "Transferred to np array\n"
          ],
          "name": "stdout"
        }
      ]
    },
    {
      "cell_type": "code",
      "metadata": {
        "id": "nL4NtJa5d2a6"
      },
      "source": [
        ""
      ],
      "execution_count": null,
      "outputs": []
    }
  ]
}