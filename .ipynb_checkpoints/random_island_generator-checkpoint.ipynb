{
 "cells": [
  {
   "cell_type": "code",
   "execution_count": 3,
   "metadata": {
    "id": "XKfF0u9O10lb",
    "scrolled": true
   },
   "outputs": [],
   "source": [
    "# import plotly.graph_objs as go\n",
    "import matplotlib.pyplot as plt\n",
    "import numpy as np\n",
    "import random\n",
    "import scipy.ndimage"
   ]
  },
  {
   "cell_type": "code",
   "execution_count": 4,
   "metadata": {
    "colab": {
     "base_uri": "https://localhost:8080/",
     "height": 794
    },
    "id": "5ndUl4KqwGPK",
    "outputId": "b6a7020e-f7b8-44cc-a994-25f93410ad54"
   },
   "outputs": [
    {
     "data": {
      "image/png": "[encoded data removed]",
      "text/plain": [
       "<Figure size 432x288 with 1 Axes>"
      ]
     },
     "metadata": {
      "needs_background": "light"
     },
     "output_type": "display_data"
    },
    {
     "ename": "NameError",
     "evalue": "name 'go' is not defined",
     "output_type": "error",
     "traceback": [
      "\u001b[0;31m---------------------------------------------------------------------------\u001b[0m",
      "\u001b[0;31mNameError\u001b[0m                                 Traceback (most recent call last)",
      "\u001b[0;32m<ipython-input-4-b41186060a28>\u001b[0m in \u001b[0;36m<module>\u001b[0;34m\u001b[0m\n\u001b[1;32m     27\u001b[0m \u001b[0mmagic\u001b[0m \u001b[0;34m=\u001b[0m \u001b[0;34m[\u001b[0m\u001b[0;34m\"rgb(0, 0, 0)\"\u001b[0m\u001b[0;34m,\u001b[0m \u001b[0;34m\"rgb(56, 0, 168)\"\u001b[0m\u001b[0;34m,\u001b[0m \u001b[0;34m\"rgb(93, 0, 255)\"\u001b[0m\u001b[0;34m,\u001b[0m \u001b[0;34m\"rgb(157, 0, 255)\"\u001b[0m\u001b[0;34m,\u001b[0m \u001b[0;34m\"rgb(255, 0, 230)\"\u001b[0m\u001b[0;34m,\u001b[0m \u001b[0;34m\"rgb(255, 153, 187)\"\u001b[0m\u001b[0;34m,\u001b[0m \u001b[0;34m\"rgb(255, 230, 230)\"\u001b[0m\u001b[0;34m]\u001b[0m\u001b[0;34m\u001b[0m\u001b[0;34m\u001b[0m\u001b[0m\n\u001b[1;32m     28\u001b[0m \u001b[0;34m\u001b[0m\u001b[0m\n\u001b[0;32m---> 29\u001b[0;31m \u001b[0mfig2\u001b[0m \u001b[0;34m=\u001b[0m \u001b[0mgo\u001b[0m\u001b[0;34m.\u001b[0m\u001b[0mFigure\u001b[0m\u001b[0;34m(\u001b[0m\u001b[0mdata\u001b[0m\u001b[0;34m=\u001b[0m\u001b[0;34m[\u001b[0m\u001b[0mgo\u001b[0m\u001b[0;34m.\u001b[0m\u001b[0mSurface\u001b[0m\u001b[0;34m(\u001b[0m\u001b[0mz\u001b[0m\u001b[0;34m=\u001b[0m\u001b[0msmoothedTerrain\u001b[0m\u001b[0;34m/\u001b[0m\u001b[0;36m5\u001b[0m\u001b[0;34m,\u001b[0m \u001b[0mcolorscale\u001b[0m\u001b[0;34m=\u001b[0m\u001b[0mocean\u001b[0m\u001b[0;34m)\u001b[0m\u001b[0;34m]\u001b[0m\u001b[0;34m)\u001b[0m\u001b[0;34m\u001b[0m\u001b[0;34m\u001b[0m\u001b[0m\n\u001b[0m\u001b[1;32m     30\u001b[0m \u001b[0mfig2\u001b[0m\u001b[0;34m.\u001b[0m\u001b[0mshow\u001b[0m\u001b[0;34m(\u001b[0m\u001b[0;34m)\u001b[0m\u001b[0;34m\u001b[0m\u001b[0;34m\u001b[0m\u001b[0m\n",
      "\u001b[0;31mNameError\u001b[0m: name 'go' is not defined"
     ]
    }
   ],
   "source": [
    "# defines the length and the number of levels\n",
    "length = 100\n",
    "terrain = np.zeros((length, length))\n",
    "levels = 20\n",
    "for j in range(20):\n",
    "    for k in range(levels, 0, -1):\n",
    "        radius = random.randrange(levels*2)\n",
    "        sX = random.randrange(-(levels*2), terrain.shape[0]-(levels*2))\n",
    "        sY = random.randrange(-(levels*2), terrain.shape[1]-(levels*2))\n",
    "        for x in range(radius):\n",
    "            for y in range(radius):\n",
    "                try:\n",
    "                    terrain[sX+x, sY+y] += 1\n",
    "                except IndexError:\n",
    "                    pass\n",
    "\n",
    "\n",
    "plt.pcolormesh(terrain, cmap=\"terrain\")\n",
    "plt.show()\n",
    "\n",
    "x = 5\n",
    "sigma = [x, x]\n",
    "smoothedTerrain = scipy.ndimage.filters.gaussian_filter(terrain, sigma)\n",
    "\n",
    "ocean = ['rgb(1, 0, 74)', 'rgb(2, 0, 158)', 'rgb(0, 76, 255)', 'rgb(0, 157, 255)', 'rgb(0, 229, 255)', 'rgb(255, 240, 214)']\n",
    "mountains = [\"rgb(0, 2, 138)\", \"rgb(0, 110, 255)\", \"rgb(72, 184, 165)\", \"rgb(11, 110, 0)\", \"rgb(110, 48, 0)\", \"rgb(227, 175, 134)\", \"rgb(255, 255, 255)\"]\n",
    "magic = [\"rgb(0, 0, 0)\", \"rgb(56, 0, 168)\", \"rgb(93, 0, 255)\", \"rgb(157, 0, 255)\", \"rgb(255, 0, 230)\", \"rgb(255, 153, 187)\", \"rgb(255, 230, 230)\"]\n",
    "\n",
    "# if imported graph objects\n",
    "fig2 = go.Figure(data=[go.Surface(z=smoothedTerrain/5, colorscale=ocean)])\n",
    "fig2.show()"
   ]
  },
  {
   "cell_type": "markdown",
   "metadata": {
    "id": "GojXWq1O1zY8"
   },
   "source": [
    "# .\n"
   ]
  },
  {
   "cell_type": "code",
   "execution_count": null,
   "metadata": {
    "id": "ouRmLfbyEPOh"
   },
   "outputs": [],
   "source": []
  }
 ],
 "metadata": {
  "colab": {
   "collapsed_sections": [],
   "name": "random_island_generator.ipynb",
   "provenance": []
  },
  "kernelspec": {
   "display_name": "Python 3",
   "language": "python",
   "name": "python3"
  },
  "language_info": {
   "codemirror_mode": {
    "name": "ipython",
    "version": 3
   },
   "file_extension": ".py",
   "mimetype": "text/x-python",
   "name": "python",
   "nbconvert_exporter": "python",
   "pygments_lexer": "ipython3",
   "version": "3.8.5"
  }
 },
 "nbformat": 4,
 "nbformat_minor": 1
}
