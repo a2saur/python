{
 "cells": [
  {
   "cell_type": "code",
   "execution_count": 2,
   "metadata": {
    "colab": {
     "base_uri": "https://localhost:8080/"
    },
    "id": "qoa8JWqj2pbE",
    "outputId": "63b5a767-9098-4789-a669-b2af575e9075"
   },
   "outputs": [
    {
     "name": "stdout",
     "output_type": "stream",
     "text": [
      "Would you like hints (y/n)? y\n",
      "---\n",
      "This is try #1\n",
      "I'm thinking of a number between 1 and 10\n",
      "Your guess: 3\n",
      "That's incorrect. My number is bigger than that.\n",
      "---\n",
      "This is try #2\n",
      "I'm thinking of a number between 1 and 10\n",
      "Your guess: 4\n",
      "That's incorrect. My number is bigger than that.\n",
      "---\n",
      "This is try #3\n",
      "I'm thinking of a number between 1 and 10\n",
      "Your guess: 5\n",
      "Congratulations! You've guessed the correct number!\n",
      "---\n",
      "My number was 5!\n"
     ]
    }
   ],
   "source": [
    "import random\n",
    "\n",
    "# setting the minimum, maximum, and number of guesses\n",
    "min = 1\n",
    "max = 10\n",
    "numGuesses = 5\n",
    "\n",
    "# picking the number\n",
    "number = random.randrange(min, max+1)\n",
    "\n",
    "# a helpful dictionary that translates yes and no to True and False\n",
    "ui = {\"y\":True, \"n\":False, \"Y\":True, \"N\":False, \"Yes\":True, \"No\":False, \"yes\":True, \"no\":False}\n",
    "\n",
    "# checks if the user wants hints\n",
    "while True:\n",
    "  try:\n",
    "    hints = ui[input(\"Would you like hints (y/n)? \")]\n",
    "    break\n",
    "  except KeyError:\n",
    "    print(\"That isn\\'t a valid option\")\n",
    "\n",
    "# game\n",
    "for x in range(1, numGuesses+1):\n",
    "  print(\"---\")\n",
    "  print(\"This is try #\"+str(x))\n",
    "  print(\"I\\'m thinking of a number between \"+str(min)+\" and \"+str(max))\n",
    "\n",
    "  # gets guess\n",
    "  while True:\n",
    "    try:\n",
    "      guess = int(input(\"Your guess: \"))\n",
    "      if guess > max:\n",
    "        int(\"a\")\n",
    "      elif guess < min:\n",
    "        int(\"a\")\n",
    "      break\n",
    "    except ValueError:\n",
    "      print(\"Sorry, that\\'s not a valid guess\")\n",
    "\n",
    "  # checks guess\n",
    "  if guess == number:\n",
    "    print(\"Congratulations! You've guessed the correct number!\")\n",
    "    break\n",
    "  if hints:\n",
    "    if guess > number:\n",
    "      print(\"That\\'s incorrect. My number is smaller than that.\")\n",
    "    elif guess < number:\n",
    "      print(\"That\\'s incorrect. My number is bigger than that.\")\n",
    "print(\"---\\nMy number was \"+str(number)+\"!\")"
   ]
  },
  {
   "cell_type": "code",
   "execution_count": null,
   "metadata": {
    "id": "MU7wtY7-4kcc"
   },
   "outputs": [],
   "source": []
  }
 ],
 "metadata": {
  "colab": {
   "name": "Guess the number.ipynb",
   "provenance": []
  },
  "kernelspec": {
   "display_name": "Python 3",
   "language": "python",
   "name": "python3"
  },
  "language_info": {
   "codemirror_mode": {
    "name": "ipython",
    "version": 3
   },
   "file_extension": ".py",
   "mimetype": "text/x-python",
   "name": "python",
   "nbconvert_exporter": "python",
   "pygments_lexer": "ipython3",
   "version": "3.8.5"
  }
 },
 "nbformat": 4,
 "nbformat_minor": 1
}
