{
  "nbformat": 4,
  "nbformat_minor": 0,
  "metadata": {
    "colab": {
      "name": "Guess the number.ipynb",
      "provenance": []
    },
    "kernelspec": {
      "name": "python3",
      "display_name": "Python 3"
    }
  },
  "cells": [
    {
      "cell_type": "code",
      "metadata": {
        "colab": {
          "base_uri": "https://localhost:8080/"
        },
        "id": "qoa8JWqj2pbE",
        "outputId": "63b5a767-9098-4789-a669-b2af575e9075"
      },
      "source": [
        "import random\n",
        "\n",
        "min = 1\n",
        "max = 10\n",
        "numGuesses = 5\n",
        "\n",
        "number = random.randrange(min, max+1)\n",
        "\n",
        "ui = {\"y\":True, \"n\":False, \"Y\":True, \"N\":False, \"Yes\":True, \"No\":False, \"yes\":True, \"no\":False}\n",
        "while True:\n",
        "  try:\n",
        "    hints = ui[input(\"Would you like hints (y/n)? \")]\n",
        "    break\n",
        "  except KeyError:\n",
        "    print(\"That isn\\'t a valid option\")\n",
        "\n",
        "for x in range(1, numGuesses+1):\n",
        "  print(\"---\")\n",
        "  print(\"This is try #\"+str(x))\n",
        "  print(\"I\\'m thinking of a number between \"+str(min)+\" and \"+str(max))\n",
        "\n",
        "  while True:\n",
        "    try:\n",
        "      guess = int(input(\"Your guess: \"))\n",
        "      if guess > max:\n",
        "        int(\"a\")\n",
        "      elif guess < min:\n",
        "        int(\"a\")\n",
        "      break\n",
        "    except ValueError:\n",
        "      print(\"Sorry, that\\'s not a valid guess\")\n",
        "  if guess == number:\n",
        "    print(\"Congratulations! You've guessed the correct number!\")\n",
        "    break\n",
        "  if hints:\n",
        "    if guess > number:\n",
        "      print(\"That\\'s incorrect. My number is smaller than that.\")\n",
        "    elif guess < number:\n",
        "      print(\"That\\'s incorrect. My number is bigger than that.\")\n",
        "print(\"---\\nMy number was \"+str(number)+\"!\")"
      ],
      "execution_count": 1,
      "outputs": [
        {
          "output_type": "stream",
          "text": [
            "Would you like hints (y/n)? y\n",
            "---\n",
            "This is try #1\n",
            "I'm thinking of a number between 1 and 10\n",
            "Your guess: 5\n",
            "That's incorrect. My number is bigger than that.\n",
            "---\n",
            "This is try #2\n",
            "I'm thinking of a number between 1 and 10\n",
            "Your guess: 7\n",
            "That's incorrect. My number is smaller than that.\n",
            "---\n",
            "This is try #3\n",
            "I'm thinking of a number between 1 and 10\n",
            "Your guess: 6\n",
            "Congratulations! You've guessed the correct number!\n",
            "---\n",
            "My number was 6!\n"
          ],
          "name": "stdout"
        }
      ]
    },
    {
      "cell_type": "code",
      "metadata": {
        "id": "MU7wtY7-4kcc"
      },
      "source": [
        ""
      ],
      "execution_count": null,
      "outputs": []
    }
  ]
}