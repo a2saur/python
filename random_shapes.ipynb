{
  "nbformat": 4,
  "nbformat_minor": 0,
  "metadata": {
    "colab": {
      "name": "random_shapes.ipynb",
      "provenance": [],
      "collapsed_sections": [
        "hc6mwz-MUoUu",
        "-K2IFuhQUzP-",
        "pAQO2cB_WzXt"
      ]
    },
    "kernelspec": {
      "name": "python3",
      "display_name": "Python 3"
    }
  },
  "cells": [
    {
      "cell_type": "code",
      "metadata": {
        "id": "Zr70wBfHEE3y"
      },
      "source": [
        "import matplotlib.pyplot as plt\n",
        "from random import randrange\n",
        "import numpy as np\n",
        "from math import sqrt, cos, sin, radians"
      ],
      "execution_count": null,
      "outputs": []
    },
    {
      "cell_type": "code",
      "metadata": {
        "id": "5enKpkeYShPv"
      },
      "source": [
        "def random_while_not(points, spaceLen=3, randomRange=28):\n",
        "  xNot = []\n",
        "  yNot = []\n",
        "  for point in points:\n",
        "    xNot += range(point[0], point[0]+spaceLen)\n",
        "    yNot += range(point[1], point[1]+spaceLen)\n",
        "    xNot += range(point[0]-spaceLen, point[0])\n",
        "    yNot += range(point[1]-spaceLen, point[1])\n",
        "  while True:\n",
        "    xPoint = randrange(28)\n",
        "    if xPoint not in xNot:\n",
        "      break\n",
        "  while True:\n",
        "    yPoint = randrange(28)\n",
        "    if yPoint not in yNot:\n",
        "      break\n",
        "  return (xPoint, yPoint)"
      ],
      "execution_count": null,
      "outputs": []
    },
    {
      "cell_type": "markdown",
      "metadata": {
        "id": "hc6mwz-MUoUu"
      },
      "source": [
        "# TRIANGLE"
      ]
    },
    {
      "cell_type": "code",
      "metadata": {
        "id": "31e2CKQQEQ2e"
      },
      "source": [
        "def triangle(pointA=(randrange(28),randrange(28)), pointB=(randrange(28),randrange(28)),pointC=(randrange(28),randrange(28))):\n",
        "  image = np.zeros((28,28))\n",
        "  image[pointA[0], pointA[1]] = 1\n",
        "  image[pointB[0], pointB[1]] = 1\n",
        "  image[pointC[0], pointC[1]] = 1\n",
        "\n",
        "  # Point A+B\n",
        "  dX = pointA[0]-pointB[0] # - (x length)\n",
        "  dY = pointA[1]-pointB[1] # | (y length)\n",
        "  hyp = sqrt((dX**2)+(dY**2))\n",
        "  currentX = 0\n",
        "  currentY = 0\n",
        "  for x in range(int(hyp)):\n",
        "    currentX += dX/hyp\n",
        "    currentY += dY/hyp\n",
        "    image[pointB[0]+int(currentX), pointB[1]+int(currentY)] = 1\n",
        "  \n",
        "  # Point A+C\n",
        "  dX = pointA[0]-pointC[0] # - (x length)\n",
        "  dY = pointA[1]-pointC[1] # | (y length)\n",
        "  hyp = sqrt((dX**2)+(dY**2))\n",
        "  currentX = 0\n",
        "  currentY = 0\n",
        "  for x in range(int(hyp)):\n",
        "    currentX += dX/hyp\n",
        "    currentY += dY/hyp\n",
        "    image[pointC[0]+int(currentX), pointC[1]+int(currentY)] = 1\n",
        "  \n",
        "  # Point B+C\n",
        "  dX = pointC[0]-pointB[0] # - (x length)\n",
        "  dY = pointC[1]-pointB[1] # | (y length)\n",
        "  hyp = sqrt((dX**2)+(dY**2))\n",
        "  currentX = 0\n",
        "  currentY = 0\n",
        "  for x in range(int(hyp)):\n",
        "    currentX += dX/hyp\n",
        "    currentY += dY/hyp\n",
        "    image[pointB[0]+int(currentX), pointB[1]+int(currentY)] = 1\n",
        "  return image"
      ],
      "execution_count": null,
      "outputs": []
    },
    {
      "cell_type": "code",
      "metadata": {
        "colab": {
          "base_uri": "https://localhost:8080/",
          "height": 269
        },
        "id": "IkVn1U8tGCNA",
        "outputId": "04d5cd28-47bc-4264-a362-ff22524c5e1f"
      },
      "source": [
        "pointA = random_while_not([])\n",
        "pointB = random_while_not([pointA])\n",
        "pointC = random_while_not([pointA, pointB])\n",
        "\n",
        "plt.pcolormesh(triangle(pointA, pointB, pointC))\n",
        "plt.colorbar()\n",
        "plt.show()"
      ],
      "execution_count": null,
      "outputs": [
        {
          "output_type": "display_data",
          "data": {
            "image/png": "[encoded data removed]",
            "text/plain": [
              "<Figure size 432x288 with 2 Axes>"
            ]
          },
          "metadata": {
            "tags": [],
            "needs_background": "light"
          }
        }
      ]
    },
    {
      "cell_type": "markdown",
      "metadata": {
        "id": "-K2IFuhQUzP-"
      },
      "source": [
        "# RECTANGLE"
      ]
    },
    {
      "cell_type": "code",
      "metadata": {
        "id": "dRPg3gxfI7Ys"
      },
      "source": [
        "def rectangle(sPoint, xLen=randrange(28), yLen=randrange(28)):\n",
        "  image = np.zeros((28, 28))\n",
        "  image[sPoint[0], sPoint[1]] = 1\n",
        "  for x in range(xLen+1):\n",
        "    image[sPoint[0]+x, sPoint[1]] = 1\n",
        "    image[sPoint[0]+x, sPoint[1]+yLen] = 1\n",
        "  for y in range(yLen+1):\n",
        "    image[sPoint[0], sPoint[1]+y] = 1\n",
        "    image[sPoint[0]+xLen, sPoint[1]+y] = 1\n",
        "  return image"
      ],
      "execution_count": null,
      "outputs": []
    },
    {
      "cell_type": "code",
      "metadata": {
        "colab": {
          "base_uri": "https://localhost:8080/",
          "height": 269
        },
        "id": "bIaa-96TVwmA",
        "outputId": "c00dfc31-fa37-4aba-ac3d-56591758dfaa"
      },
      "source": [
        "sPoint = (randrange(28),randrange(28))\n",
        "plt.pcolormesh(rectangle(sPoint, xLen=randrange(28-sPoint[0]), yLen=randrange(28-sPoint[1])))\n",
        "plt.colorbar()\n",
        "plt.show()"
      ],
      "execution_count": null,
      "outputs": [
        {
          "output_type": "display_data",
          "data": {
            "image/png": "[encoded data removed]",
            "text/plain": [
              "<Figure size 432x288 with 2 Axes>"
            ]
          },
          "metadata": {
            "tags": [],
            "needs_background": "light"
          }
        }
      ]
    },
    {
      "cell_type": "markdown",
      "metadata": {
        "id": "pAQO2cB_WzXt"
      },
      "source": [
        "# CIRCLE"
      ]
    },
    {
      "cell_type": "code",
      "metadata": {
        "id": "O4FyWbTSW4ra"
      },
      "source": [
        "def circle(radius=randrange(14), center=(14,14)):\n",
        "  image = np.zeros((28,28))\n",
        "  for t in range(360):\n",
        "    yPlus = radius*sin(radians(t))\n",
        "    xPlus = radius*cos(radians(t))\n",
        "    image[center[0]+int(xPlus), center[1]+int(yPlus)] = 1\n",
        "  return image"
      ],
      "execution_count": null,
      "outputs": []
    },
    {
      "cell_type": "code",
      "metadata": {
        "colab": {
          "base_uri": "https://localhost:8080/",
          "height": 269
        },
        "id": "ZTF8q6oKXKdA",
        "outputId": "6aa1facc-e313-4f36-ae3d-5febdc882e8f"
      },
      "source": [
        "plt.pcolormesh(circle(randrange(1,14)))\n",
        "plt.colorbar()\n",
        "plt.show()"
      ],
      "execution_count": null,
      "outputs": [
        {
          "output_type": "display_data",
          "data": {
            "image/png": "[encoded data removed]",
            "text/plain": [
              "<Figure size 432x288 with 2 Axes>"
            ]
          },
          "metadata": {
            "tags": [],
            "needs_background": "light"
          }
        }
      ]
    }
  ]
}